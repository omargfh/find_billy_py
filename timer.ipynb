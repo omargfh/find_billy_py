{
 "cells": [
  {
   "cell_type": "code",
   "execution_count": 1,
   "metadata": {},
   "outputs": [],
   "source": [
    "from billy import Playground\n",
    "import time\n",
    "import matplotlib.pyplot as plt"
   ]
  },
  {
   "cell_type": "code",
   "execution_count": 8,
   "metadata": {},
   "outputs": [
    {
     "name": "stdout",
     "output_type": "stream",
     "text": [
      "(2, 2)\n",
      "(3, 4)\n",
      "(6, 5)\n",
      "(8, 7)\n",
      "(8, 5)\n",
      "(9, 9)\n",
      "Tests: 6, Passed: 6, Accuracy: 100.00%\n"
     ]
    }
   ],
   "source": [
    "tests = [\n",
    "    ('2x2.txt', (2, 2)),\n",
    "    ('4x4.txt', (3, 4)),\n",
    "    ('6x6.txt', (6, 5)),\n",
    "    ('8x8.txt', (8, 7)),\n",
    "    ('10x10.txt', (8, 5)),\n",
    "    ('12x12.txt', (9, 9)),\n",
    "]\n",
    "passed = 0\n",
    "for test in tests:\n",
    "    pg = Playground.from_file(test[0])\n",
    "    if pg.test(test[1]):\n",
    "        passed += 1\n",
    "    else: \n",
    "        print(f\"Failed: {test[0]}\")\n",
    "print(f\"Tests: {len(tests)}, Passed: {passed}, Accuracy: {passed / len(tests) * 100:.2f}%\")"
   ]
  },
  {
   "cell_type": "code",
   "execution_count": 14,
   "metadata": {},
   "outputs": [
    {
     "name": "stdout",
     "output_type": "stream",
     "text": [
      "2x2 took 1.4 ms\n",
      "4x4 took 20.8 ms\n",
      "6x6 took 43.0 ms\n"
     ]
    }
   ],
   "source": [
    "files = {\n",
    "    2: '2x2.txt',\n",
    "    4: '4x4.txt',\n",
    "    6: '6x6.txt',\n",
    "    8: '8x8.txt',\n",
    "    10: '10x10.txt',\n",
    "    12: '12x12.txt',\n",
    "}\n",
    "times = []\n",
    "for size, f in files.items():\n",
    "    pg = Playground.from_file(f)\n",
    "    start = time.time()\n",
    "    for _ in range(10000):\n",
    "        pg.find_billy()\n",
    "    end = time.time()\n",
    "    print(f'{size}x{size} took {(end - start) * 100:.1f} ms')\n",
    "    times.append((size, (end - start) * 100))\n",
    "\n",
    "plt.xlabel('Input Size N (in a grid NxN)')\n",
    "plt.ylabel('Time (in milliseconds for (10000 runs)')\n",
    "plt.title('Time to find billy', fontsize=16)\n",
    "plt.plot(*zip(*times))"
   ]
  }
 ],
 "metadata": {
  "kernelspec": {
   "display_name": "Python 3",
   "language": "python",
   "name": "python3"
  },
  "language_info": {
   "codemirror_mode": {
    "name": "ipython",
    "version": 3
   },
   "file_extension": ".py",
   "mimetype": "text/x-python",
   "name": "python",
   "nbconvert_exporter": "python",
   "pygments_lexer": "ipython3",
   "version": "3.11.1"
  },
  "orig_nbformat": 4,
  "vscode": {
   "interpreter": {
    "hash": "5c7b89af1651d0b8571dde13640ecdccf7d5a6204171d6ab33e7c296e100e08a"
   }
  }
 },
 "nbformat": 4,
 "nbformat_minor": 2
}
